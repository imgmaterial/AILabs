{
 "cells": [
  {
   "cell_type": "markdown",
   "metadata": {},
   "source": [
    "Lab 1 Exercise"
   ]
  },
  {
   "cell_type": "code",
   "execution_count": 1,
   "metadata": {},
   "outputs": [
    {
     "name": "stdout",
     "output_type": "stream",
     "text": [
      "How many old kanelbulle are you planning to purchase?\n",
      "The normal price for 14 kanelbullar would be 490.00 SEK, the total discount is 294.00 SEK, the final price to be paid is 196.00 SEK\n"
     ]
    }
   ],
   "source": [
    "#A.0.1\n",
    "base_price = 35\n",
    "discount = 0.6\n",
    "print(\"How many old kanelbulle are you planning to purchase?\")\n",
    "amount = int(input())\n",
    "total_price = int(amount) * base_price\n",
    "total_discount = total_price * discount\n",
    "final_price = total_price - total_discount\n",
    "print(f'The normal price for {amount} kanelbullar would be {total_price:.2f} SEK, the total discount is {total_discount:.2f} SEK, the final price to be paid is {final_price:.2f} SEK')"
   ]
  },
  {
   "cell_type": "code",
   "execution_count": 2,
   "metadata": {},
   "outputs": [
    {
     "name": "stdout",
     "output_type": "stream",
     "text": [
      "Input a number of human year that needs to be converted to dog years\n",
      "The age of 20.00 years in human years corresponds to 93.00 in dog years\n"
     ]
    }
   ],
   "source": [
    "#A.0.2\n",
    "print(\"Input a number of human years that needs to be converted to dog years\")\n",
    "human_years = float(input())\n",
    "if (human_years) < 0:\n",
    "    raise Exception(\"Human years should be represented by a non-negative value\")\n",
    "dog_years = (2 * 10.5 + (human_years - 2)*4) if human_years > 2 else (human_years * 10.5) \n",
    "print(f\"The age of {human_years:.2f} years in human years corresponds to {dog_years:.2f} in dog years\")"
   ]
  },
  {
   "cell_type": "code",
   "execution_count": 3,
   "metadata": {},
   "outputs": [
    {
     "name": "stdout",
     "output_type": "stream",
     "text": [
      "13 is a prime number\n"
     ]
    }
   ],
   "source": [
    "#A.0.4\n",
    "def IsPrime(num:int)->bool:\n",
    "    is_prime = False\n",
    "    if (num == 0 or num==1):\n",
    "        return is_prime\n",
    "    for i in range(2,int(num**0.5)+1):\n",
    "        if num%i == 0:\n",
    "            return is_prime\n",
    "    is_prime = True\n",
    "    return is_prime\n",
    "\n",
    "input_num = int(input())\n",
    "print(f\"{input_num} is a prime number\" if IsPrime(input_num) else f\"{input_num} is not a prime number\")"
   ]
  },
  {
   "cell_type": "code",
   "execution_count": 4,
   "metadata": {},
   "outputs": [
    {
     "name": "stdout",
     "output_type": "stream",
     "text": [
      "2 is the first prime number after 1\n"
     ]
    }
   ],
   "source": [
    "#A.0.5\n",
    "input_num = int(input())\n",
    "i = 0\n",
    "while (not IsPrime(input_num + i)):\n",
    "    i+=1\n",
    "next_prime = input_num+i\n",
    "print(f\"{next_prime} is the first prime number after {input_num}\")"
   ]
  },
  {
   "cell_type": "code",
   "execution_count": 5,
   "metadata": {},
   "outputs": [
    {
     "name": "stdout",
     "output_type": "stream",
     "text": [
      "H H H (3 flips)\n",
      "H T T T (4 flips)\n",
      "T T H T T T (6 flips)\n",
      "T H T H H H (6 flips)\n",
      "H H T T H T T T (8 flips)\n",
      "T H H T T H T T T (9 flips)\n",
      "H T H T T H T H T H T T H T H H T T H T H T T T (24 flips)\n",
      "T T T (3 flips)\n",
      "H T H T H T T H H H (10 flips)\n",
      "T T T (3 flips)\n",
      "H H T T H H T H T H T T T (13 flips)\n",
      "H T T H T H H H (8 flips)\n",
      "T T H T H T H T H H T H T T H T H T H T T T (22 flips)\n",
      "T H T T H T H H H (9 flips)\n",
      "T H H H (4 flips)\n",
      "T T T (3 flips)\n",
      "T T T (3 flips)\n",
      "H T H H H (5 flips)\n",
      "T T H T H T H T H H H (11 flips)\n",
      "T T H T T T (6 flips)\n"
     ]
    }
   ],
   "source": [
    "#A.0.3\n",
    "import random\n",
    "def flip_coin()->str:\n",
    "    value = random.randint(0,1)\n",
    "    return \"T\" if value == 0 else \"H\"\n",
    "def flip_coins()->str:\n",
    "    flips = []\n",
    "    while flips[-3:] != [\"T\",\"T\",\"T\"] and flips[-3:] != [\"H\",\"H\",\"H\"]:\n",
    "        flips.append(flip_coin())\n",
    "    return (\" \".join(flips) + f\" ({len(flips)} flips)\")\n",
    "\n",
    "for i in range(20):\n",
    "    print(flip_coins())"
   ]
  },
  {
   "cell_type": "code",
   "execution_count": 23,
   "metadata": {},
   "outputs": [
    {
     "name": "stdout",
     "output_type": "stream",
     "text": [
      "['2s', '2h', '2d', '2c', '3s', '3h', '3d', '3c', '4s', '4h', '4d', '4c', '5s', '5h', '5d', '5c', '6s', '6h', '6d', '6c', '7s', '7h', '7d', '7c', '8s', '8h', '8d', '8c', '9s', '9h', '9d', '9c', 'Ts', 'Th', 'Td', 'Tc', 'Js', 'Jh', 'Jd', 'Jc', 'Qs', 'Qh', 'Qd', 'Qc', 'Ks', 'Kh', 'Kd', 'Kc', 'As', 'Ah', 'Ad', 'Ac']\n",
      "['3s', 'Jc', 'Jh', '2s', '7c', '3c', '7d', '6c', '2c', '7h', '4d', 'Ah', '2h', '9d', '3d', 'Qc', 'Ac', '9s', 'Jd', '5d', '8s', 'Ts', '9c', 'Qh', 'Th', '4c', 'As', '9h', '8h', '4h', '7s', '2d', 'Kh', '8d', 'Qs', '6s', 'Qd', 'Td', 'Js', 'Ks', '5s', '3h', '6d', 'Kc', '6h', 'Ad', '4s', 'Kd', 'Tc', '8c', '5c', '5h']\n"
     ]
    }
   ],
   "source": [
    "#A.0.6\n",
    "def create_deck()->list:\n",
    "    values = [str(i) for i in range(2,10)] + ['T','J', 'Q', 'K', 'A']\n",
    "    suits = ['s', 'h', 'd', 'c']\n",
    "    deck = [x + y for x in values for y in suits]\n",
    "    return deck\n",
    "def shuffle_deck(deck:list)->list:\n",
    "    for i in range(len(deck)):\n",
    "        swap = random.randint(0,len(deck)-1)\n",
    "        temp = deck[swap]\n",
    "        deck[swap] = deck[i]\n",
    "        deck[i] = temp\n",
    "    return deck\n",
    "deck = create_deck()\n",
    "print(deck)\n",
    "shuffle_deck(deck)\n",
    "print(deck)"
   ]
  },
  {
   "cell_type": "code",
   "execution_count": 21,
   "metadata": {},
   "outputs": [],
   "source": [
    "#A.0.7\n",
    "class cards():\n",
    "    cards = []\n",
    "    def create(self):\n",
    "        self.cards = create_deck()\n",
    "\n",
    "    def shuffle(self):\n",
    "        shuffle_deck(self.cards)\n",
    "\n",
    "    def deal(self,hands,card_num)->list:\n",
    "        output = [[] for i in range(hands)]\n",
    "        for i in range(card_num):\n",
    "            for j in range(hands):\n",
    "                if (len(self.cards) == 0):\n",
    "                    break\n",
    "                output[j].append(self.cards.pop())\n",
    "        return output\n"
   ]
  },
  {
   "cell_type": "code",
   "execution_count": 22,
   "metadata": {},
   "outputs": [
    {
     "name": "stdout",
     "output_type": "stream",
     "text": [
      "['2s', '2h', '2d', '2c', '3s', '3h', '3d', '3c', '4s', '4h', '4d', '4c', '5s', '5h', '5d', '5c', '6s', '6h', '6d', '6c', '7s', '7h', '7d', '7c', '8s', '8h', '8d', '8c', '9s', '9h', '9d', '9c', 'Ts', 'Th', 'Td', 'Tc', 'Js', 'Jh', 'Jd', 'Jc', 'Qs', 'Qh', 'Qd', 'Qc', 'Ks', 'Kh', 'Kd', 'Kc', 'As', 'Ah', 'Ad', 'Ac']\n",
      "['8h', 'Jc', 'Jh', 'Tc', '8s', '4d', '8d', '3h', '5h', '3s', '5c', '7h', '6c', '4s', 'Ts', '2d', '9h', '3d', '7c', 'Qs', 'Ks', 'Ah', '4h', '7s', 'Jd', 'As', 'Td', '2c', '3c', 'Kc', '9s', 'Qc', 'Ad', '2s', '6s', '7d', '6h', '4c', 'Kd', 'Th', '8c', 'Qd', '2h', '6d', 'Ac', 'Qh', '5d', '5s', 'Js', '9c', '9d', 'Kh']\n",
      "[['Kh', '2h', '2s', 'Jd', '2d', '8d'], ['9d', 'Qd', 'Ad', '7s', 'Ts', '4d'], ['9c', '8c', 'Qc', '4h', '4s', '8s'], ['Js', 'Th', '9s', 'Ah', '6c', 'Tc'], ['5s', 'Kd', 'Kc', 'Ks', '7h', 'Jh'], ['5d', '4c', '3c', 'Qs', '5c', 'Jc'], ['Qh', '6h', '2c', '7c', '3s', '8h'], ['Ac', '7d', 'Td', '3d', '5h'], ['6d', '6s', 'As', '9h', '3h']]\n"
     ]
    }
   ],
   "source": [
    "game = cards()\n",
    "game.create()\n",
    "print(game.cards)\n",
    "game.shuffle()\n",
    "print(game.cards)\n",
    "hands = game.deal(9,6)\n",
    "print(hands)"
   ]
  },
  {
   "cell_type": "code",
   "execution_count": null,
   "metadata": {},
   "outputs": [],
   "source": []
  }
 ],
 "metadata": {
  "kernelspec": {
   "display_name": "AILabs",
   "language": "python",
   "name": "python3"
  },
  "language_info": {
   "codemirror_mode": {
    "name": "ipython",
    "version": 3
   },
   "file_extension": ".py",
   "mimetype": "text/x-python",
   "name": "python",
   "nbconvert_exporter": "python",
   "pygments_lexer": "ipython3",
   "version": "3.13.1"
  }
 },
 "nbformat": 4,
 "nbformat_minor": 2
}
