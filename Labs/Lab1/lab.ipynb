{
 "cells": [
  {
   "cell_type": "markdown",
   "metadata": {},
   "source": [
    "Lab 1 Exercise"
   ]
  },
  {
   "cell_type": "code",
   "execution_count": 1,
   "metadata": {},
   "outputs": [
    {
     "name": "stdout",
     "output_type": "stream",
     "text": [
      "How many old kanelbulle are you planning to purchase?\n",
      "The normal price for 13 kanelbullar would be 455.00 SEK, the total discount is 273.00 SEK, the final price to be paid is 182.00 SEK\n"
     ]
    }
   ],
   "source": [
    "#A.0.1\n",
    "base_price = 35\n",
    "discount = 0.6\n",
    "print(\"How many old kanelbulle are you planning to purchase?\")\n",
    "amount = int(input())\n",
    "total_price = int(amount) * base_price\n",
    "total_discount = total_price * discount\n",
    "final_price = total_price - total_discount\n",
    "print(f'The normal price for {amount} kanelbullar would be {total_price:.2f} SEK, the total discount is {total_discount:.2f} SEK, the final price to be paid is {final_price:.2f} SEK')"
   ]
  },
  {
   "cell_type": "code",
   "execution_count": 2,
   "metadata": {},
   "outputs": [
    {
     "name": "stdout",
     "output_type": "stream",
     "text": [
      "Input a number of human year that needs to be converted to dog years\n",
      "The age of 12.00 years in human years corresponds to 61.00 in dog years\n"
     ]
    }
   ],
   "source": [
    "#A.0.2\n",
    "print(\"Input a number of human year that needs to be converted to dog years\")\n",
    "human_years = float(input())\n",
    "if (human_years) < 0:\n",
    "    raise Exception(\"Human years shouyld be represented by a non-negative value\")\n",
    "dog_years = (2 * 10.5 + (human_years - 2)*4) if human_years > 2 else (human_years * 10.5) \n",
    "print(f\"The age of {human_years:.2f} years in human years corresponds to {dog_years:.2f} in dog years\")"
   ]
  },
  {
   "cell_type": "code",
   "execution_count": 4,
   "metadata": {},
   "outputs": [
    {
     "name": "stdout",
     "output_type": "stream",
     "text": [
      "13 is a prime number\n"
     ]
    }
   ],
   "source": [
    "#A.0.4\n",
    "def IsPrime(num:int)->bool:\n",
    "    is_prime = False\n",
    "    if (num == 0 or num==1):\n",
    "        return is_prime\n",
    "    for i in range(2,int(num**0.5)+1):\n",
    "        if num%i == 0:\n",
    "            return is_prime\n",
    "    is_prime = True\n",
    "    return is_prime\n",
    "\n",
    "input_num = int(input())\n",
    "print(f\"{input_num} is a prime number\" if IsPrime(input_num) else f\"{input_num} is not a prime number\")"
   ]
  },
  {
   "cell_type": "code",
   "execution_count": 5,
   "metadata": {},
   "outputs": [
    {
     "name": "stdout",
     "output_type": "stream",
     "text": [
      "1201 is the first prime number after 1200\n"
     ]
    }
   ],
   "source": [
    "#A.0.5\n",
    "input_num = int(input())\n",
    "i = 0\n",
    "while (not IsPrime(input_num + i)):\n",
    "    i+=1\n",
    "next_prime = input_num+i\n",
    "print(f\"{next_prime} is the first prime number after {input_num}\")"
   ]
  },
  {
   "cell_type": "code",
   "execution_count": 42,
   "metadata": {},
   "outputs": [
    {
     "name": "stdout",
     "output_type": "stream",
     "text": [
      "H H T H T H T H H T H T H H T T T (17 flips)\n",
      "H T H H H (5 flips)\n",
      "T H T T H H H (7 flips)\n",
      "H T H H T T H H H (9 flips)\n",
      "H H H (3 flips)\n",
      "H H H (3 flips)\n",
      "T H T H H T H T T H H T H T H H H (17 flips)\n",
      "T H H T T H T T T (9 flips)\n",
      "T T H H H (5 flips)\n",
      "H H H (3 flips)\n",
      "H H T T T (5 flips)\n",
      "H T T H T H T H T H H H (12 flips)\n",
      "T H H T T H T T H T H H H (13 flips)\n",
      "H T T H T H H H (8 flips)\n",
      "H T T H H H (6 flips)\n",
      "T T H T T T (6 flips)\n",
      "T T T (3 flips)\n",
      "H H H (3 flips)\n",
      "H T H T H T H H H (9 flips)\n",
      "T H H T H T H T T H H T T T (14 flips)\n"
     ]
    }
   ],
   "source": [
    "#A.0.3\n",
    "import random\n",
    "def flip_coin()->str:\n",
    "    value = random.randint(0,1)\n",
    "    return \"T\" if value == 0 else \"H\"\n",
    "def flip_coins()->str:\n",
    "    flips = []\n",
    "    while flips[-3:] != [\"T\",\"T\",\"T\"] and flips[-3:] != [\"H\",\"H\",\"H\"]:\n",
    "        flips.append(flip_coin())\n",
    "    return (\" \".join(flips) + f\" ({len(flips)} flips)\")\n",
    "\n",
    "for i in range(20):\n",
    "    print(flip_coins())"
   ]
  },
  {
   "cell_type": "code",
   "execution_count": 45,
   "metadata": {},
   "outputs": [
    {
     "name": "stdout",
     "output_type": "stream",
     "text": [
      "['2s', '2h', '2d', '2c', '3s', '3h', '3d', '3c', '4s', '4h', '4d', '4c', '5s', '5h', '5d', '5c', '6s', '6h', '6d', '6c', '7s', '7h', '7d', '7c', '8s', '8h', '8d', '8c', '9s', '9h', '9d', '9c', 'Ts', 'Th', 'Td', 'Tc', 'Js', 'Jh', 'Jd', 'Jc', 'Qs', 'Qh', 'Qd', 'Qc', 'Ks', 'Kh', 'Kd', 'Kc', 'As', 'Ah', 'Ad', 'Ac']\n",
      "['2c', 'Tc', '5c', '5d', '3c', '9c', 'Qh', 'Ad', '8d', '2h', '4d', 'Kc', '2d', 'Ac', '6h', '9h', '3d', '2s', 'Js', 'Qd', '7c', '9s', '6c', '4h', '7d', '3s', 'Qc', '7h', 'Kh', 'Ks', 'Th', 'Kd', '7s', '4c', '6s', '3h', '6d', '8s', '9d', '5s', 'Qs', 'Jd', 'Td', 'Jc', '5h', 'Jh', 'As', '4s', 'Ts', '8c', '8h', 'Ah']\n"
     ]
    }
   ],
   "source": [
    "#A.0.6\n",
    "def create_deck()->list:\n",
    "    values = [str(i) for i in range(2,10)] + ['T','J', 'Q', 'K', 'A']\n",
    "    suits = ['s', 'h', 'd', 'c']\n",
    "    deck = [x + y for x in values for y in suits]\n",
    "    return deck\n",
    "def shuffle_deck(deck:list)->list:\n",
    "    for i in range(52):\n",
    "        swap = random.randint(0,52)\n",
    "        temp = deck[swap]\n",
    "        deck[swap] = deck[i]\n",
    "        deck[i] = temp\n",
    "    return deck\n",
    "deck = create_deck()\n",
    "print(deck)\n",
    "deck = shuffle_deck(deck)\n",
    "print(deck)"
   ]
  },
  {
   "cell_type": "code",
   "execution_count": 48,
   "metadata": {},
   "outputs": [],
   "source": [
    "#A.0.7\n",
    "class cards():\n",
    "    cards = []\n",
    "    def create(self):\n",
    "        values = [str(i) for i in range(2,10)] + ['T','J', 'Q', 'K', 'A']\n",
    "        suits = ['s', 'h', 'd', 'c']\n",
    "        self.cards = [x + y for x in values for y in suits]\n",
    "    def shuffle(self):\n",
    "        for i in range(52):\n",
    "            swap = random.randint(0,52)\n",
    "            temp = self.cards[swap]\n",
    "            self.cards[swap] = self.cards[i]\n",
    "            self.cards[i] = temp\n",
    "    def deal(self,hands,card_num)->list:\n",
    "        output = [[] for i in range(hands)]\n",
    "        for i in range(card_num):\n",
    "            for j in range(hands):\n",
    "                output[j].append(self.cards.pop())\n",
    "        return output\n"
   ]
  },
  {
   "cell_type": "code",
   "execution_count": 49,
   "metadata": {},
   "outputs": [
    {
     "name": "stdout",
     "output_type": "stream",
     "text": [
      "['2s', '2h', '2d', '2c', '3s', '3h', '3d', '3c', '4s', '4h', '4d', '4c', '5s', '5h', '5d', '5c', '6s', '6h', '6d', '6c', '7s', '7h', '7d', '7c', '8s', '8h', '8d', '8c', '9s', '9h', '9d', '9c', 'Ts', 'Th', 'Td', 'Tc', 'Js', 'Jh', 'Jd', 'Jc', 'Qs', 'Qh', 'Qd', 'Qc', 'Ks', 'Kh', 'Kd', 'Kc', 'As', 'Ah', 'Ad', 'Ac']\n",
      "['Ah', '9d', '2h', '7d', 'Qh', 'Qs', 'Ks', '3c', '3d', 'Td', '5s', '8h', '6c', '4s', 'Jd', '7s', '3s', '3h', '5d', '8s', '2d', 'As', 'Kd', '2c', '7c', 'Qc', 'Ad', 'Kh', '5h', '6h', 'Kc', 'Js', 'Jh', '6s', '7h', '4d', '4c', '9s', '8c', 'Ts', 'Th', 'Tc', '8d', '2s', '9h', 'Jc', '6d', '5c', '9c', '4h', 'Qd', 'Ac']\n",
      "[['Ac', '5c', '2s', 'Ts', '4d', 'Js'], ['Qd', '6d', '8d', '8c', '7h', 'Kc'], ['4h', 'Jc', 'Tc', '9s', '6s', '6h'], ['9c', '9h', 'Th', '4c', 'Jh', '5h']]\n"
     ]
    }
   ],
   "source": [
    "game = cards()\n",
    "game.create()\n",
    "print(game.cards)\n",
    "game.shuffle()\n",
    "print(game.cards)\n",
    "hands = game.deal(4,6)\n",
    "print(hands)"
   ]
  },
  {
   "cell_type": "code",
   "execution_count": null,
   "metadata": {},
   "outputs": [],
   "source": []
  }
 ],
 "metadata": {
  "kernelspec": {
   "display_name": "tempsertver",
   "language": "python",
   "name": "python3"
  },
  "language_info": {
   "codemirror_mode": {
    "name": "ipython",
    "version": 3
   },
   "file_extension": ".py",
   "mimetype": "text/x-python",
   "name": "python",
   "nbconvert_exporter": "python",
   "pygments_lexer": "ipython3",
   "version": "3.11.3"
  }
 },
 "nbformat": 4,
 "nbformat_minor": 2
}
