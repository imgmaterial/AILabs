{
 "cells": [
  {
   "cell_type": "code",
   "execution_count": 4,
   "metadata": {},
   "outputs": [],
   "source": [
    "import numpy as np\n",
    "import pandas as pd\n",
    "import matplotlib.pyplot as plt\n",
    "import os"
   ]
  },
  {
   "cell_type": "code",
   "execution_count": 9,
   "metadata": {},
   "outputs": [],
   "source": [
    "recordings = os.listdir(\"Recordings/training\")"
   ]
  },
  {
   "cell_type": "code",
   "execution_count": 14,
   "metadata": {},
   "outputs": [],
   "source": [
    "df = pd.DataFrame()\n",
    "df[\"filenames\"] = recordings\n",
    "df[\"labels\"] = [recording.split('.')[0] for recording in recordings]"
   ]
  },
  {
   "cell_type": "code",
   "execution_count": 16,
   "metadata": {},
   "outputs": [
    {
     "name": "stdout",
     "output_type": "stream",
     "text": [
      "                                             filenames   labels\n",
      "0     Apple.5kh0pmfj.ingestion-8474d8fb45-pdwsh.s5.wav    Apple\n",
      "1    Cherry.5kh1qkbd.ingestion-8474d8fb45-9wskt.s5.wav   Cherry\n",
      "2     Apple.5kh0cn3e.ingestion-8474d8fb45-9wskt.s1.wav    Apple\n",
      "3    Cherry.5kh2800p.ingestion-8474d8fb45-6skpk.s8.wav   Cherry\n",
      "4    Cherry.5kh21qib.ingestion-8474d8fb45-pdwsh.s4.wav   Cherry\n",
      "..                                                 ...      ...\n",
      "237  Orange.5kh3h8ol.ingestion-8474d8fb45-6skpk.s8.wav   Orange\n",
      "238  Orange.5kh48ndd.ingestion-8474d8fb45-pdwsh.s4.wav   Orange\n",
      "239  Orange.5kh32m5q.ingestion-8474d8fb45-9wskt.s7.wav   Orange\n",
      "240   Apple.5kh10n2n.ingestion-8474d8fb45-pdwsh.s5.wav    Apple\n",
      "241  Unknown.5kh4s5kb.ingestion-8474d8fb45-pdwsh.s4...  Unknown\n",
      "\n",
      "[242 rows x 2 columns]\n"
     ]
    }
   ],
   "source": [
    "print(df)\n",
    "df.to_csv(\"labels.csv\")"
   ]
  },
  {
   "cell_type": "code",
   "execution_count": null,
   "metadata": {},
   "outputs": [],
   "source": []
  }
 ],
 "metadata": {
  "kernelspec": {
   "display_name": "AILabs",
   "language": "python",
   "name": "python3"
  },
  "language_info": {
   "codemirror_mode": {
    "name": "ipython",
    "version": 3
   },
   "file_extension": ".py",
   "mimetype": "text/x-python",
   "name": "python",
   "nbconvert_exporter": "python",
   "pygments_lexer": "ipython3",
   "version": "3.13.2"
  }
 },
 "nbformat": 4,
 "nbformat_minor": 2
}
